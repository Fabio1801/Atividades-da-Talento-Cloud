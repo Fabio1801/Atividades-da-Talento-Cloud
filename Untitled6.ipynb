{
  "nbformat": 4,
  "nbformat_minor": 0,
  "metadata": {
    "colab": {
      "provenance": [],
      "authorship_tag": "ABX9TyOsOK2CT47BQV4Lw8uVK+lh",
      "include_colab_link": true
    },
    "kernelspec": {
      "name": "python3",
      "display_name": "Python 3"
    },
    "language_info": {
      "name": "python"
    }
  },
  "cells": [
    {
      "cell_type": "markdown",
      "metadata": {
        "id": "view-in-github",
        "colab_type": "text"
      },
      "source": [
        "<a href=\"https://colab.research.google.com/github/Fabio1801/Atividades-da-Talento-Cloud/blob/main/Untitled6.ipynb\" target=\"_parent\"><img src=\"https://colab.research.google.com/assets/colab-badge.svg\" alt=\"Open In Colab\"/></a>"
      ]
    },
    {
      "cell_type": "markdown",
      "source": [
        "# Atividade Try e Except"
      ],
      "metadata": {
        "id": "Uf4pTBPsVanD"
      }
    },
    {
      "cell_type": "code",
      "execution_count": 1,
      "metadata": {
        "colab": {
          "base_uri": "https://localhost:8080/"
        },
        "id": "k7ZpnJELVYSI",
        "outputId": "db9140bf-2063-486d-bfe2-6f937d98e647"
      },
      "outputs": [
        {
          "output_type": "stream",
          "name": "stdout",
          "text": [
            "Digite seu nome completo: Atividade \n",
            "Digite o ano de nascimento: 1989\n",
            "Óla, Atividade . Hoje você está com 34 de idade.\n"
          ]
        }
      ],
      "source": [
        "\n",
        "try:\n",
        "  nome_completo = str(input('Digite seu nome completo: '))\n",
        "  ano_nascimento = int(input('Digite o ano de nascimento: '))\n",
        "\n",
        "  if ano_nascimento >= 1922 and ano_nascimento <= 2022:\n",
        "     idade = 2023 - ano_nascimento\n",
        "     print(f'Óla, {nome_completo}. Hoje você está com {idade} de idade.')\n",
        "\n",
        "  else:\n",
        "    ano_nascimento = int(input('Digite o ano de nascimento entre 1922 a 2022: '))\n",
        "    print(f'Óla, {nome_completo}. Hoje você está com {idade} de idade.')\n",
        "\n",
        "except:\n",
        "  print('O ano de nascimento deve ser um número inteiro.')"
      ]
    }
  ]
}