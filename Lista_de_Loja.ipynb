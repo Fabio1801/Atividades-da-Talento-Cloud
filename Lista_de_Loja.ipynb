{
  "nbformat": 4,
  "nbformat_minor": 0,
  "metadata": {
    "colab": {
      "provenance": [],
      "authorship_tag": "ABX9TyMCXWiClMBpVPEGkMBvvTQ/",
      "include_colab_link": true
    },
    "kernelspec": {
      "name": "python3",
      "display_name": "Python 3"
    },
    "language_info": {
      "name": "python"
    }
  },
  "cells": [
    {
      "cell_type": "markdown",
      "metadata": {
        "id": "view-in-github",
        "colab_type": "text"
      },
      "source": [
        "<a href=\"https://colab.research.google.com/github/Fabio1801/Atividades-da-Talento-Cloud/blob/main/Lista_de_Loja.ipynb\" target=\"_parent\"><img src=\"https://colab.research.google.com/assets/colab-badge.svg\" alt=\"Open In Colab\"/></a>"
      ]
    },
    {
      "cell_type": "markdown",
      "source": [
        "Atividade 03"
      ],
      "metadata": {
        "id": "HgWH5zxxvozx"
      }
    },
    {
      "cell_type": "code",
      "source": [
        "lista_produtos = ['máscaras faciais', 'batons', 'esmaltes', 'perfumes', 'loções', 'xampus', 'sabonetes', 'delineadores']\n",
        "print(f'Nossos produtos : {lista_produtos}')\n",
        "\n",
        "print('Aparti de hohe Estaremos descontinuando os seguintes produtos, Batons e Loções. \\nSegue nossa nova cartela de produtos.' )\n",
        "\n",
        "# Substituição dos produtos antigos\n",
        "lista_produtos[1], lista_produtos[4] = 'rímel','cremes hidratantes'\n",
        "\n",
        "# Acréscimo de produtos\n",
        "lista_produtos.append('condicionador')\n",
        "lista_produtos.append('reparador de pontas')\n",
        "\n",
        "print(lista_produtos)"
      ],
      "metadata": {
        "colab": {
          "base_uri": "https://localhost:8080/"
        },
        "id": "Ze_MBVWg4scu",
        "outputId": "8379d613-c9ce-4c54-8aef-753326c35126"
      },
      "execution_count": 30,
      "outputs": [
        {
          "output_type": "stream",
          "name": "stdout",
          "text": [
            "Nossos produtos : ['máscaras faciais', 'batons', 'esmaltes', 'perfumes', 'loções', 'xampus', 'sabonetes', 'delineadores']\n",
            "Aparti de hohe Estaremos descontinuando os seguintes produtos, Batons e Loções. \n",
            "Segue nossa nova cartela de produtos.\n",
            "['máscaras faciais', 'rímel', 'esmaltes', 'perfumes', 'cremes hidratantes', 'xampus', 'sabonetes', 'delineadores', 'condicionador', 'reparador de pontas']\n"
          ]
        }
      ]
    }
  ]
}