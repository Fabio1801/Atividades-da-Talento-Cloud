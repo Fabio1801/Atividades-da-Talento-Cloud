{
  "nbformat": 4,
  "nbformat_minor": 0,
  "metadata": {
    "colab": {
      "provenance": [],
      "authorship_tag": "ABX9TyNdBSffaa3x/GtJ5NM9VAXc",
      "include_colab_link": true
    },
    "kernelspec": {
      "name": "python3",
      "display_name": "Python 3"
    },
    "language_info": {
      "name": "python"
    }
  },
  "cells": [
    {
      "cell_type": "markdown",
      "metadata": {
        "id": "view-in-github",
        "colab_type": "text"
      },
      "source": [
        "<a href=\"https://colab.research.google.com/github/Fabio1801/Atividades-da-Talento-Cloud/blob/main/Lista_de_Loja.ipynb\" target=\"_parent\"><img src=\"https://colab.research.google.com/assets/colab-badge.svg\" alt=\"Open In Colab\"/></a>"
      ]
    },
    {
      "cell_type": "markdown",
      "source": [
        "Atividade 01"
      ],
      "metadata": {
        "id": "HgWH5zxxvozx"
      }
    },
    {
      "cell_type": "code",
      "source": [
        "lista_produtos = ['máscaras faciais', 'batons', 'esmaltes', 'perfumes', 'loções', 'xampus', 'sabonetes', 'delineadores']\n",
        "\n",
        "print(f\"Chegou novidade. Temos {lista_produtos[0]} na promoção !\")\n",
        "print(f\"Chegou novidade. Temos {lista_produtos[1]} na promoção !\")\n",
        "print(f\"Chegou novidade. Temos {lista_produtos[2]} na promoção !\")\n",
        "print(f\"Chegou novidade. Temos {lista_produtos[3]} na promoção !\")\n",
        "print(f\"Chegou novidade. Temos {lista_produtos[4]} na promoção !\")\n",
        "print(f\"Chegou novidade. Temos {lista_produtos[5]} na promoção !\")\n",
        "print(f\"Chegou novidade. Temos {lista_produtos[6]} na promoção !\")\n",
        "print(f\"Chegou novidade. Temos {lista_produtos[7]} na promoção !\")\n",
        "\n",
        "print('APROVEITA !!!')"
      ],
      "metadata": {
        "colab": {
          "base_uri": "https://localhost:8080/"
        },
        "id": "xUB1VG1i02_J",
        "outputId": "29dabcc1-08d1-404a-ae5c-f3ce0e54f315"
      },
      "execution_count": 17,
      "outputs": [
        {
          "output_type": "stream",
          "name": "stdout",
          "text": [
            "Chegou novidade. Temos máscaras faciais na promoção !\n",
            "Chegou novidade. Temos batons na promoção !\n",
            "Chegou novidade. Temos esmaltes na promoção !\n",
            "Chegou novidade. Temos perfumes na promoção !\n",
            "Chegou novidade. Temos loções na promoção !\n",
            "Chegou novidade. Temos xampus na promoção !\n",
            "Chegou novidade. Temos sabonetes na promoção !\n",
            "Chegou novidade. Temos delineadores na promoção !\n",
            "APROVEITA !!!\n"
          ]
        }
      ]
    }
  ]
}