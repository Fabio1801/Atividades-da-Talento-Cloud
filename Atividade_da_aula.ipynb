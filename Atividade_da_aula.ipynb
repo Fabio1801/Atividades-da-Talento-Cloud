{
  "nbformat": 4,
  "nbformat_minor": 0,
  "metadata": {
    "colab": {
      "provenance": [],
      "toc_visible": true,
      "authorship_tag": "ABX9TyO9j/W7ZQeY0/C41KNhX/9l",
      "include_colab_link": true
    },
    "kernelspec": {
      "name": "python3",
      "display_name": "Python 3"
    },
    "language_info": {
      "name": "python"
    }
  },
  "cells": [
    {
      "cell_type": "markdown",
      "metadata": {
        "id": "view-in-github",
        "colab_type": "text"
      },
      "source": [
        "<a href=\"https://colab.research.google.com/github/Fabio1801/Atividades-da-Talento-Cloud/blob/main/Atividade_da_aula.ipynb\" target=\"_parent\"><img src=\"https://colab.research.google.com/assets/colab-badge.svg\" alt=\"Open In Colab\"/></a>"
      ]
    },
    {
      "cell_type": "markdown",
      "source": [
        "# Exercício 01"
      ],
      "metadata": {
        "id": "dJtTFfXXuvGw"
      }
    },
    {
      "cell_type": "markdown",
      "source": [
        "## Código com loop for"
      ],
      "metadata": {
        "id": "KGA68v3Uv2Zd"
      }
    },
    {
      "cell_type": "code",
      "execution_count": null,
      "metadata": {
        "id": "vR2iRiG8uSmc"
      },
      "outputs": [],
      "source": [
        "print(\"Sejam bem vindos ao nosso hotel.\\nSegue abaixo a númeração dos nossos andares\")\n",
        "\n",
        "numero =21\n",
        "for i in range (20,0,-1):\n",
        "  numero = numero - 1\n",
        "  if(numero == 13):\n",
        "    continue\n",
        "  print(f'Você está no {numero}º')"
      ]
    },
    {
      "cell_type": "markdown",
      "source": [
        "## Código com loop while"
      ],
      "metadata": {
        "id": "uanhKrphv7Xt"
      }
    },
    {
      "cell_type": "code",
      "source": [
        "print(\"Sejam bem vindos ao nosso hotel.\\nSegue abaixo a númeração dos nossos andares\")\n",
        "\n",
        "numero1 = 20\n",
        "while numero1 >= 1 :\n",
        "  if numero1 ==13:\n",
        "       numero1 = numero1 - 1\n",
        "       continue\n",
        "  print(f'Você está no {numero1}º')\n",
        "  numero1 = numero1 - 1\n",
        "\n",
        "\n",
        ""
      ],
      "metadata": {
        "id": "Tj2skO0P6QpD"
      },
      "execution_count": null,
      "outputs": []
    }
  ]
}