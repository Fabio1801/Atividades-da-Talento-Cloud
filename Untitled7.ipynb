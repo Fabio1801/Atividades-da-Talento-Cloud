{
  "nbformat": 4,
  "nbformat_minor": 0,
  "metadata": {
    "colab": {
      "provenance": [],
      "authorship_tag": "ABX9TyOlOWdTKJjbMVFs0q+jUItt",
      "include_colab_link": true
    },
    "kernelspec": {
      "name": "python3",
      "display_name": "Python 3"
    },
    "language_info": {
      "name": "python"
    }
  },
  "cells": [
    {
      "cell_type": "markdown",
      "metadata": {
        "id": "view-in-github",
        "colab_type": "text"
      },
      "source": [
        "<a href=\"https://colab.research.google.com/github/Fabio1801/Atividades-da-Talento-Cloud/blob/main/Untitled7.ipynb\" target=\"_parent\"><img src=\"https://colab.research.google.com/assets/colab-badge.svg\" alt=\"Open In Colab\"/></a>"
      ]
    },
    {
      "cell_type": "markdown",
      "source": [
        "Atividade 01"
      ],
      "metadata": {
        "id": "HgWH5zxxvozx"
      }
    },
    {
      "cell_type": "code",
      "source": [
        "lista_musicos = ['Djavan', 'Roberto Carlos', 'Elis Regina', 'Tom Jobim', 'Milton Nascimento',\n",
        "                 'Chico Buarque', 'Nara Leão', 'Pitty', 'Simonal', 'Moacir Santos',\n",
        "                 'Caetano Veloso', 'Elza Soares', 'Paulinho da Viola', 'Yamandú Costa', 'Gal Costa']\n",
        "\n",
        "print(f'Este array possui {len(lista_musicos)} elementos')\n",
        "print(f\"Este é '{lista_musicos[2]}' o elemento do índece 2\")\n",
        "print(f\"Este é '{lista_musicos[9]}' o elemento do índece 9\")\n",
        "print(f\"Este é '{lista_musicos[14]}' o elemento do índece 14\")"
      ],
      "metadata": {
        "colab": {
          "base_uri": "https://localhost:8080/"
        },
        "id": "XEuRWcCwx1LK",
        "outputId": "eb7e57ca-3ebd-4029-d156-9063b914655a"
      },
      "execution_count": 14,
      "outputs": [
        {
          "output_type": "stream",
          "name": "stdout",
          "text": [
            "Este array possui 15 elementos\n",
            "Este é 'Elis Regina' o elemento do índece 2\n",
            "Este é 'Moacir Santos' o elemento do índece 9\n",
            "Este é 'Gal Costa' o elemento do índece 14\n"
          ]
        }
      ]
    }
  ]
}