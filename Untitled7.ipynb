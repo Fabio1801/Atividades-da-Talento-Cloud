{
  "nbformat": 4,
  "nbformat_minor": 0,
  "metadata": {
    "colab": {
      "provenance": [],
      "authorship_tag": "ABX9TyNT+8rbRs8uubXdo6C32hJa",
      "include_colab_link": true
    },
    "kernelspec": {
      "name": "python3",
      "display_name": "Python 3"
    },
    "language_info": {
      "name": "python"
    }
  },
  "cells": [
    {
      "cell_type": "markdown",
      "metadata": {
        "id": "view-in-github",
        "colab_type": "text"
      },
      "source": [
        "<a href=\"https://colab.research.google.com/github/Fabio1801/Atividades-da-Talento-Cloud/blob/main/Untitled7.ipynb\" target=\"_parent\"><img src=\"https://colab.research.google.com/assets/colab-badge.svg\" alt=\"Open In Colab\"/></a>"
      ]
    },
    {
      "cell_type": "markdown",
      "source": [
        "Atividade 01"
      ],
      "metadata": {
        "id": "HgWH5zxxvozx"
      }
    },
    {
      "cell_type": "code",
      "execution_count": 2,
      "metadata": {
        "colab": {
          "base_uri": "https://localhost:8080/"
        },
        "id": "1FhuqCW2vioa",
        "outputId": "f1c4c0a4-5011-4d7c-861e-439ed51b71b8"
      },
      "outputs": [
        {
          "output_type": "stream",
          "name": "stdout",
          "text": [
            "Nossos produtos são :['Shampoo', 'Condicionador', 'Reparador de pontas', 'Finalizador', 'Hidratação']\n",
            "Essas são as datas de nascimentos dos famíliares : [1989, 1959, 1964, 1976, 1992]\n"
          ]
        }
      ],
      "source": [
        "# Lista com os produtos da loja\n",
        "\n",
        "produtos = ['Shampoo', 'Condicionador', 'Reparador de pontas', 'Finalizador', 'Hidratação']\n",
        "\n",
        "# Lista com as datas de nascimentos\n",
        "\n",
        "data_nascimento = [1989, 1959, 1964, 1976, 1992]\n",
        "\n",
        "print(f'Nossos produtos são :{produtos}')\n",
        "print(f'Essas são as datas de nascimentos dos famíliares : {data_nascimento}')"
      ]
    }
  ]
}