{
  "nbformat": 4,
  "nbformat_minor": 0,
  "metadata": {
    "colab": {
      "provenance": [],
      "authorship_tag": "ABX9TyP03PGvi2l/rjMWPtaW5q7q",
      "include_colab_link": true
    },
    "kernelspec": {
      "name": "python3",
      "display_name": "Python 3"
    },
    "language_info": {
      "name": "python"
    }
  },
  "cells": [
    {
      "cell_type": "markdown",
      "metadata": {
        "id": "view-in-github",
        "colab_type": "text"
      },
      "source": [
        "<a href=\"https://colab.research.google.com/github/Fabio1801/Atividades-da-Talento-Cloud/blob/main/Fun%C3%A7%C3%A3o_Calculadora.ipynb\" target=\"_parent\"><img src=\"https://colab.research.google.com/assets/colab-badge.svg\" alt=\"Open In Colab\"/></a>"
      ]
    },
    {
      "cell_type": "markdown",
      "source": [
        "# Criando uma calculadora"
      ],
      "metadata": {
        "id": "HJJXAa1uypvA"
      }
    },
    {
      "cell_type": "markdown",
      "source": [
        "Exercicio 01"
      ],
      "metadata": {
        "id": "KWit9mlSy6VC"
      }
    },
    {
      "cell_type": "code",
      "source": [
        "def calculadora (num1, num2, operacao):\n",
        "  if operacao == 1:\n",
        "    return num1 + num2\n",
        "  elif operacao == 2:\n",
        "    return num1 - num2\n",
        "  elif operacao == 3:\n",
        "    return num1 * num2\n",
        "  elif operacao == 4:\n",
        "    return num1 / num2\n",
        "  else:\n",
        "    print(\"Digite uma operação correta. Tente novamento\")\n",
        "    return 0\n",
        "\n",
        "numero1 = float(input('Digite o primeiro número da operação: '))\n",
        "numero2 = float(input('Digite o segundo número da operação: '))\n",
        "operacao = int(input('Escolha a opção da operação \\n1 pra Somar : \\n2 para Subtrair : \\n3 para Multiplicar : \\n4 para Dividir :'))\n",
        "\n",
        "resultado = calculadora (numero1, numero2, operacao)\n",
        "print(f'O Resultado da sua operação é {resultado}')\n",
        "\n",
        "# Fiquem todos com Deus !!!!\n",
        ""
      ],
      "metadata": {
        "id": "ah86TGmxykMb"
      },
      "execution_count": null,
      "outputs": []
    },
    {
      "cell_type": "markdown",
      "source": [
        "# Calculadora 02\n"
      ],
      "metadata": {
        "id": "xl6at5polFQY"
      }
    },
    {
      "cell_type": "markdown",
      "source": [
        "Exercicio 02"
      ],
      "metadata": {
        "id": "yc8EDv_9zDMZ"
      }
    },
    {
      "cell_type": "code",
      "execution_count": null,
      "metadata": {
        "id": "VU5kLPwPk_LJ"
      },
      "outputs": [],
      "source": [
        "\n",
        "def calculadora (num1, num2, operacao):\n",
        "  while True:\n",
        "   if operacao == 1:\n",
        "      return num1 + num2\n",
        "   elif operacao == 2:\n",
        "      return num1 - num2\n",
        "   elif operacao == 3:\n",
        "      return num1 * num2\n",
        "   elif operacao == 4:\n",
        "      return num1 / num2\n",
        "   elif operacao == 0:\n",
        "      print('Obrigado e volte a operar')\n",
        "      break\n",
        "   else:\n",
        "      print(\"Você digitou uma operação inexistente. Tente novamento\")\n",
        "      operacao = int(input('Escolha a opção da operação \\n1 pra Somar : \\n2 para Subtrair : \\n3 para Multiplicar : \\n4 para Dividir \\n0 pra Sair :'))\n",
        "\n",
        "\n",
        "numero1 = float(input('Digite o primeiro número da operação: '))\n",
        "numero2 = float(input('Digite o segundo número da operação: '))\n",
        "operacao = int(input('Escolha a opção da operação \\n1 pra Somar : \\n2 para Subtrair : \\n3 para Multiplicar : \\n4 para Dividir \\n0 pra Sair :'))\n",
        "\n",
        "resultado = calculadora (numero1, numero2, operacao)\n",
        "print(f'O Resultado da sua operação é {resultado}')\n",
        "\n",
        "# Fiquem todos com Deus !!!!\n",
        "\n",
        "\n"
      ]
    }
  ]
}