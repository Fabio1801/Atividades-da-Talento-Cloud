{
  "nbformat": 4,
  "nbformat_minor": 0,
  "metadata": {
    "colab": {
      "provenance": [],
      "authorship_tag": "ABX9TyN7oOUpT8dVSKjXqfHSjdYe",
      "include_colab_link": true
    },
    "kernelspec": {
      "name": "python3",
      "display_name": "Python 3"
    },
    "language_info": {
      "name": "python"
    }
  },
  "cells": [
    {
      "cell_type": "markdown",
      "metadata": {
        "id": "view-in-github",
        "colab_type": "text"
      },
      "source": [
        "<a href=\"https://colab.research.google.com/github/Fabio1801/Atividades-da-Talento-Cloud/blob/main/Fun%C3%A7%C3%A3o_Calculadora.ipynb\" target=\"_parent\"><img src=\"https://colab.research.google.com/assets/colab-badge.svg\" alt=\"Open In Colab\"/></a>"
      ]
    },
    {
      "cell_type": "markdown",
      "source": [
        "# Criando uma calculadora"
      ],
      "metadata": {
        "id": "xl6at5polFQY"
      }
    },
    {
      "cell_type": "code",
      "execution_count": 7,
      "metadata": {
        "colab": {
          "base_uri": "https://localhost:8080/"
        },
        "id": "VU5kLPwPk_LJ",
        "outputId": "3756536e-43c4-4e73-847c-5e3a002bc759"
      },
      "outputs": [
        {
          "output_type": "stream",
          "name": "stdout",
          "text": [
            "Digite o primeiro número da operação: 2\n",
            "Digite o segundo número da operação: 3\n",
            "Escolha a opçãp da operação \n",
            "1 pra Somar : \n",
            "2 para Subtrair : \n",
            "3 para Multiplicar : \n",
            "4 para Dividir :5\n",
            "Digite uma operação correta. Tente novamento\n",
            "O Resultado da sua operação é 0\n"
          ]
        }
      ],
      "source": [
        "def calculadora (num1, num2, operacao):\n",
        "  if operacao == 1:\n",
        "    return num1 + num2\n",
        "  elif operacao == 2:\n",
        "    return num1 - num2\n",
        "  elif operacao == 3:\n",
        "    return num1 * num2\n",
        "  elif operacao == 4:\n",
        "    return num1 / num2\n",
        "  else:\n",
        "    print(\"Digite uma operação correta. Tente novamento\")\n",
        "    return 0\n",
        "\n",
        "numero1 = float(input('Digite o primeiro número da operação: '))\n",
        "numero2 = float(input('Digite o segundo número da operação: '))\n",
        "operacao = int(input('Escolha a opção da operação \\n1 pra Somar : \\n2 para Subtrair : \\n3 para Multiplicar : \\n4 para Dividir :'))\n",
        "\n",
        "resultado = calculadora (numero1, numero2, operacao)\n",
        "print(f'O Resultado da sua operação é {resultado}')\n",
        "\n",
        "\n"
      ]
    }
  ]
}